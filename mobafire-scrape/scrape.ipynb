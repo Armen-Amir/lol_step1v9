{
 "cells": [
  {
   "cell_type": "code",
   "execution_count": 71,
   "metadata": {},
   "outputs": [],
   "source": [
    "#!pip install selenium"
   ]
  },
  {
   "cell_type": "code",
   "execution_count": 72,
   "metadata": {},
   "outputs": [],
   "source": [
    "from selenium import webdriver\n",
    "from selenium.webdriver.chrome.service import Service\n",
    "from selenium.webdriver.chrome.options import Options\n",
    "from bs4 import BeautifulSoup\n",
    "import time\n",
    "import os\n",
    "import re\n",
    "import pandas as pd"
   ]
  },
  {
   "cell_type": "code",
   "execution_count": 73,
   "metadata": {},
   "outputs": [],
   "source": [
    "chrome_options = Options()\n",
    "chrome_options.add_argument(\"--headless\")\n",
    "\n",
    "driver = webdriver.Chrome()"
   ]
  },
  {
   "cell_type": "code",
   "execution_count": 74,
   "metadata": {},
   "outputs": [],
   "source": [
    "driver.get(\"https://www.mobafire.com/league-of-legends/build/step1v9-guide-full-matchups-for-every-champion-635422\")\n",
    "time.sleep(5)"
   ]
  },
  {
   "cell_type": "code",
   "execution_count": 75,
   "metadata": {},
   "outputs": [],
   "source": [
    "html = driver.page_source\n",
    "soup = BeautifulSoup(html, 'html.parser')\n",
    "\n",
    "row_divs = soup.find_all('div', class_='row')\n",
    "\n",
    "results = []\n",
    "for div in row_divs:\n",
    "    # Extract h4, label, and p elements from this div\n",
    "    h4_text = div.find('h4').text.strip() if div.find('h4') else None\n",
    "    label_text = div.find('label').text.strip() if div.find('label') else None\n",
    "    p_text = div.find('p').text.strip() if div.find('p') else None\n",
    "    \n",
    "    # Store the extracted data\n",
    "    results.append({\n",
    "        'h4': h4_text,\n",
    "        'label': label_text,\n",
    "        'p': p_text\n",
    "    })"
   ]
  },
  {
   "cell_type": "code",
   "execution_count": 77,
   "metadata": {},
   "outputs": [],
   "source": [
    "matchup_df = pd.DataFrame(results)\n",
    "matchup_df['h4'] = matchup_df['h4'].apply(lambda x: re.sub(r'[^\\w]', '', x))\n",
    "matchup_df.drop_duplicates(inplace=True)\n",
    "\n",
    "#missing champions\n",
    "missing_champs = [['Mel','Blank','Blank'],['Ambessa','Blank','Blank'],['Aurora','Blank','Blank']]\n",
    "for row in missing_champs:\n",
    "    matchup_df = pd.concat([pd.DataFrame([row], columns=matchup_df.columns), matchup_df], ignore_index=True)\n",
    "\n",
    "# Group by h4 and aggregate\n",
    "matchup_df = matchup_df.groupby('h4', as_index=False).agg({\n",
    "    'label': 'first',  # Keep the first label value\n",
    "    'p': lambda x: ' '.join(str(item) for item in x if pd.notna(item))  # Concatenate all p values\n",
    "})\n",
    "\n",
    "matchup_df[\"icon\"] = \"https://ddragon.leagueoflegends.com/cdn/13.24.1/img/champion/\" + matchup_df[\"h4\"] + \".png\"\n",
    "matchup_df.rename(columns={'h4':'champion','label':'threat_level','p':'notes','icon':'icon_url'}, inplace=True)\n",
    "column_to_move = matchup_df.pop(\"icon_url\")\n",
    "matchup_df.insert(1, \"icon_url\", column_to_move)\n",
    "\n",
    "matchup_df.sort_values(by='champion')\n",
    "matchup_df.to_csv('matchup_df.csv',index=False)"
   ]
  },
  {
   "cell_type": "code",
   "execution_count": 67,
   "metadata": {},
   "outputs": [
    {
     "data": {
      "text/plain": [
       "array(['Aatrox', 'Ahri', 'Akali', 'Akshan', 'Alistar', 'Amumu', 'Anivia',\n",
       "       'Annie', 'Aphelios', 'Ashe', 'AurelionSol', 'Azir', 'Bard',\n",
       "       'BelVeth', 'Blitzcrank', 'Brand', 'Braum', 'Briar', 'Caitlyn',\n",
       "       'Camille', 'Cassiopeia', 'ChoGath', 'Corki', 'Darius', 'Diana',\n",
       "       'DrMundo', 'Draven', 'Ekko', 'Elise', 'Evelynn', 'Ezreal',\n",
       "       'Fiddlesticks', 'Fiora', 'Fizz', 'Galio', 'Gangplank', 'Garen',\n",
       "       'Gnar', 'Gragas', 'Graves', 'Gwen', 'Hecarim', 'Heimerdinger',\n",
       "       'Hwei', 'Illaoi', 'Irelia', 'Ivern', 'Janna', 'JarvanIV', 'Jax',\n",
       "       'Jayce', 'Jhin', 'Jinx', 'KSante', 'KaiSa', 'Kalista', 'Karma',\n",
       "       'Karthus', 'Kassadin', 'Katarina', 'Kayle', 'Kayn', 'Kennen',\n",
       "       'KhaZix', 'Kindred', 'Kled', 'KogMaw', 'LeBlanc', 'LeeSin',\n",
       "       'Leona', 'Lillia', 'Lissandra', 'Lucian', 'Lulu', 'Lux',\n",
       "       'Malphite', 'Malzahar', 'Maokai', 'MasterYi', 'Milio',\n",
       "       'MissFortune', 'Mordekaiser', 'Morgana', 'Naafiri', 'Nami',\n",
       "       'Nasus', 'Nautilus', 'Neeko', 'Nidalee', 'Nilah', 'Nocturne',\n",
       "       'NunuWillump', 'Olaf', 'Orianna', 'Ornn', 'Pantheon', 'Poppy',\n",
       "       'Pyke', 'Qiyana', 'Quinn', 'Rakan', 'Rammus', 'RekSai', 'Rell',\n",
       "       'RenataGlasc', 'Renekton', 'Rengar', 'Riven', 'Rumble', 'Ryze',\n",
       "       'Samira', 'Sejuani', 'Senna', 'Seraphine', 'Sett', 'Shaco', 'Shen',\n",
       "       'Shyvana', 'Singed', 'Sion', 'Sivir', 'Skarner', 'Smolder', 'Sona',\n",
       "       'Soraka', 'Swain', 'Sylas', 'Syndra', 'TahmKench', 'Taliyah',\n",
       "       'Talon', 'Taric', 'Teemo', 'Thresh', 'Tristana', 'Trundle',\n",
       "       'Tryndamere', 'TwistedFate', 'Twitch', 'Udyr', 'Urgot', 'Varus',\n",
       "       'Vayne', 'Veigar', 'VelKoz', 'Vex', 'Vi', 'Viego', 'Viktor',\n",
       "       'Vladimir', 'Volibear', 'Warwick', 'Wukong', 'Xayah', 'Xerath',\n",
       "       'XinZhao', 'Yasuo', 'Yone', 'Yorick', 'Yuumi', 'Zac', 'Zed',\n",
       "       'Zeri', 'Ziggs', 'Zilean', 'Zoe', 'Zyra'], dtype=object)"
      ]
     },
     "execution_count": 67,
     "metadata": {},
     "output_type": "execute_result"
    }
   ],
   "source": [
    "matchup_df['champion'].unique()"
   ]
  },
  {
   "cell_type": "code",
   "execution_count": null,
   "metadata": {},
   "outputs": [],
   "source": []
  }
 ],
 "metadata": {
  "kernelspec": {
   "display_name": "base",
   "language": "python",
   "name": "python3"
  },
  "language_info": {
   "codemirror_mode": {
    "name": "ipython",
    "version": 3
   },
   "file_extension": ".py",
   "mimetype": "text/x-python",
   "name": "python",
   "nbconvert_exporter": "python",
   "pygments_lexer": "ipython3",
   "version": "3.11.5"
  }
 },
 "nbformat": 4,
 "nbformat_minor": 2
}
